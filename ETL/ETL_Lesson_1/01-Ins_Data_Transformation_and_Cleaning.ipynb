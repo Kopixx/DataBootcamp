{
 "cells": [
  {
   "cell_type": "code",
   "execution_count": 1,
   "metadata": {},
   "outputs": [],
   "source": [
    "#Import required packages\n",
    "import pandas as pd"
   ]
  },
  {
   "cell_type": "code",
   "execution_count": null,
   "metadata": {},
   "outputs": [],
   "source": [
    "#Save display options for df\n",
    "pd.options.display.max_colwidth = 200"
   ]
  },
  {
   "cell_type": "code",
   "execution_count": 2,
   "metadata": {},
   "outputs": [],
   "source": [
    "#Read in excel file\n",
    "orders_df = pd.read_excel(\"running_shoes.xlsx\")"
   ]
  },
  {
   "cell_type": "code",
   "execution_count": 3,
   "metadata": {},
   "outputs": [
    {
     "data": {
      "text/html": [
       "<div>\n",
       "<style scoped>\n",
       "    .dataframe tbody tr th:only-of-type {\n",
       "        vertical-align: middle;\n",
       "    }\n",
       "\n",
       "    .dataframe tbody tr th {\n",
       "        vertical-align: top;\n",
       "    }\n",
       "\n",
       "    .dataframe thead th {\n",
       "        text-align: right;\n",
       "    }\n",
       "</style>\n",
       "<table border=\"1\" class=\"dataframe\">\n",
       "  <thead>\n",
       "    <tr style=\"text-align: right;\">\n",
       "      <th></th>\n",
       "      <th>Product ID,Category,Product,Size,Last Visited</th>\n",
       "    </tr>\n",
       "  </thead>\n",
       "  <tbody>\n",
       "    <tr>\n",
       "      <th>0</th>\n",
       "      <td>AH2430,Women's,Blazing Trail Shoes,Size 9,2020...</td>\n",
       "    </tr>\n",
       "    <tr>\n",
       "      <th>1</th>\n",
       "      <td>G27341,Men's,Forest Trail Shoes,Size 11,2020-0...</td>\n",
       "    </tr>\n",
       "    <tr>\n",
       "      <th>2</th>\n",
       "      <td>CM0081,Women's,Swift Running Shoes,Size 7,2020...</td>\n",
       "    </tr>\n",
       "    <tr>\n",
       "      <th>3</th>\n",
       "      <td>B44832,Women's,Running Hard Shoes,Size 6,2020-...</td>\n",
       "    </tr>\n",
       "    <tr>\n",
       "      <th>4</th>\n",
       "      <td>D98205,Men's,Lite Racing Shoes,Size 10,2020-04...</td>\n",
       "    </tr>\n",
       "  </tbody>\n",
       "</table>\n",
       "</div>"
      ],
      "text/plain": [
       "       Product ID,Category,Product,Size,Last Visited\n",
       "0  AH2430,Women's,Blazing Trail Shoes,Size 9,2020...\n",
       "1  G27341,Men's,Forest Trail Shoes,Size 11,2020-0...\n",
       "2  CM0081,Women's,Swift Running Shoes,Size 7,2020...\n",
       "3  B44832,Women's,Running Hard Shoes,Size 6,2020-...\n",
       "4  D98205,Men's,Lite Racing Shoes,Size 10,2020-04..."
      ]
     },
     "execution_count": 3,
     "metadata": {},
     "output_type": "execute_result"
    }
   ],
   "source": [
    "#Display the df\n",
    "orders_df.head()"
   ]
  },
  {
   "cell_type": "code",
   "execution_count": 4,
   "metadata": {},
   "outputs": [
    {
     "name": "stdout",
     "output_type": "stream",
     "text": [
      "<class 'pandas.core.frame.DataFrame'>\n",
      "RangeIndex: 10 entries, 0 to 9\n",
      "Data columns (total 1 columns):\n",
      " #   Column                                         Non-Null Count  Dtype \n",
      "---  ------                                         --------------  ----- \n",
      " 0   Product ID,Category,Product,Size,Last Visited  10 non-null     object\n",
      "dtypes: object(1)\n",
      "memory usage: 208.0+ bytes\n"
     ]
    }
   ],
   "source": [
    "#Check the data types + info\n",
    "orders_df.info()"
   ]
  },
  {
   "cell_type": "code",
   "execution_count": 6,
   "metadata": {},
   "outputs": [
    {
     "data": {
      "text/plain": [
       "['Product ID,Category,Product,Size,Last Visited']"
      ]
     },
     "execution_count": 6,
     "metadata": {},
     "output_type": "execute_result"
    }
   ],
   "source": [
    "#Place the columns into a list\n",
    "order_columns = orders_df.columns.tolist()\n",
    "\n",
    "#Print list\n",
    "order_columns"
   ]
  },
  {
   "cell_type": "code",
   "execution_count": 8,
   "metadata": {},
   "outputs": [
    {
     "data": {
      "text/plain": [
       "[['Product ID', 'Category', 'Product', 'Size', 'Last Visited']]"
      ]
     },
     "execution_count": 8,
     "metadata": {},
     "output_type": "execute_result"
    }
   ],
   "source": [
    "#Split the columns into elements\n",
    "#Set new list to receive data\n",
    "new_order_columns = []\n",
    "\n",
    "#Create for loop to split the column names by comma\n",
    "for i in order_columns:\n",
    "    new_order_columns.append(i.split(\",\"))\n",
    "\n",
    "#Print the result\n",
    "new_order_columns"
   ]
  },
  {
   "cell_type": "code",
   "execution_count": 9,
   "metadata": {},
   "outputs": [
    {
     "data": {
      "text/plain": [
       "[[\"AH2430,Women's,Blazing Trail Shoes,Size 9,2020-04-13T15:06:15\"],\n",
       " [\"G27341,Men's,Forest Trail Shoes,Size 11,2020-04-13T15:06:18\"],\n",
       " [\"CM0081,Women's,Swift Running Shoes,Size 7,2020-04-13T15:06:20\"],\n",
       " [\"B44832,Women's,Running Hard Shoes,Size 6,2020-04-13T15:06:23\"],\n",
       " [\"D98205,Men's,Lite Racing Shoes,Size 10,2020-04-13T15:06:26\"],\n",
       " [\"B75586,Men's,Running Rebound Shoes,Size 12,2020-04-13T15:06:30\"],\n",
       " [\"CG4051,Women's,Inspired Victory Shoes,Size 8,2020-04-13T15:06:33\"],\n",
       " [\"CM0080,Women's,Responsive Trail Shoes,Size 9,2020-04-13T15:06:36\"],\n",
       " [\"B75990,Men's,Energy Boost Running Shoes,Size 13,2020-04-13T15:06:40\"],\n",
       " [\"EE5761,Men's,Pure Bouncer Running Shoes,Size 9,2020-04-13T15:06:45\"]]"
      ]
     },
     "execution_count": 9,
     "metadata": {},
     "output_type": "execute_result"
    }
   ],
   "source": [
    "#Place each row of data into a list\n",
    "order_rows = orders_df.values.tolist()\n",
    "\n",
    "#Print list\n",
    "order_rows"
   ]
  },
  {
   "cell_type": "code",
   "execution_count": 11,
   "metadata": {},
   "outputs": [
    {
     "data": {
      "text/plain": [
       "[['AH2430', \"Women's\", 'Blazing Trail Shoes', 'Size 9', '2020-04-13T15:06:15'],\n",
       " ['G27341', \"Men's\", 'Forest Trail Shoes', 'Size 11', '2020-04-13T15:06:18'],\n",
       " ['CM0081', \"Women's\", 'Swift Running Shoes', 'Size 7', '2020-04-13T15:06:20'],\n",
       " ['B44832', \"Women's\", 'Running Hard Shoes', 'Size 6', '2020-04-13T15:06:23'],\n",
       " ['D98205', \"Men's\", 'Lite Racing Shoes', 'Size 10', '2020-04-13T15:06:26'],\n",
       " ['B75586',\n",
       "  \"Men's\",\n",
       "  'Running Rebound Shoes',\n",
       "  'Size 12',\n",
       "  '2020-04-13T15:06:30'],\n",
       " ['CG4051',\n",
       "  \"Women's\",\n",
       "  'Inspired Victory Shoes',\n",
       "  'Size 8',\n",
       "  '2020-04-13T15:06:33'],\n",
       " ['CM0080',\n",
       "  \"Women's\",\n",
       "  'Responsive Trail Shoes',\n",
       "  'Size 9',\n",
       "  '2020-04-13T15:06:36'],\n",
       " ['B75990',\n",
       "  \"Men's\",\n",
       "  'Energy Boost Running Shoes',\n",
       "  'Size 13',\n",
       "  '2020-04-13T15:06:40'],\n",
       " ['EE5761',\n",
       "  \"Men's\",\n",
       "  'Pure Bouncer Running Shoes',\n",
       "  'Size 9',\n",
       "  '2020-04-13T15:06:45']]"
      ]
     },
     "execution_count": 11,
     "metadata": {},
     "output_type": "execute_result"
    }
   ],
   "source": [
    "#Split the rows into columns\n",
    "#Set new list to receive data\n",
    "new_order_rows = []\n",
    "\n",
    "#Create for loop to split the column names by comma\n",
    "for i in order_rows:\n",
    "    new_order_rows.append(i[0].split(\",\"))\n",
    "\n",
    "#Print the result\n",
    "new_order_rows"
   ]
  },
  {
   "cell_type": "code",
   "execution_count": 36,
   "metadata": {},
   "outputs": [
    {
     "data": {
      "text/html": [
       "<div>\n",
       "<style scoped>\n",
       "    .dataframe tbody tr th:only-of-type {\n",
       "        vertical-align: middle;\n",
       "    }\n",
       "\n",
       "    .dataframe tbody tr th {\n",
       "        vertical-align: top;\n",
       "    }\n",
       "\n",
       "    .dataframe thead th {\n",
       "        text-align: right;\n",
       "    }\n",
       "</style>\n",
       "<table border=\"1\" class=\"dataframe\">\n",
       "  <thead>\n",
       "    <tr style=\"text-align: right;\">\n",
       "      <th></th>\n",
       "      <th>Product ID</th>\n",
       "      <th>Category</th>\n",
       "      <th>Product</th>\n",
       "      <th>Size</th>\n",
       "      <th>Last Visited</th>\n",
       "    </tr>\n",
       "  </thead>\n",
       "  <tbody>\n",
       "    <tr>\n",
       "      <th>0</th>\n",
       "      <td>AH2430</td>\n",
       "      <td>Women's</td>\n",
       "      <td>Blazing Trail Shoes</td>\n",
       "      <td>Size 9</td>\n",
       "      <td>2020-04-13T15:06:15</td>\n",
       "    </tr>\n",
       "    <tr>\n",
       "      <th>1</th>\n",
       "      <td>G27341</td>\n",
       "      <td>Men's</td>\n",
       "      <td>Forest Trail Shoes</td>\n",
       "      <td>Size 11</td>\n",
       "      <td>2020-04-13T15:06:18</td>\n",
       "    </tr>\n",
       "    <tr>\n",
       "      <th>2</th>\n",
       "      <td>CM0081</td>\n",
       "      <td>Women's</td>\n",
       "      <td>Swift Running Shoes</td>\n",
       "      <td>Size 7</td>\n",
       "      <td>2020-04-13T15:06:20</td>\n",
       "    </tr>\n",
       "    <tr>\n",
       "      <th>3</th>\n",
       "      <td>B44832</td>\n",
       "      <td>Women's</td>\n",
       "      <td>Running Hard Shoes</td>\n",
       "      <td>Size 6</td>\n",
       "      <td>2020-04-13T15:06:23</td>\n",
       "    </tr>\n",
       "    <tr>\n",
       "      <th>4</th>\n",
       "      <td>D98205</td>\n",
       "      <td>Men's</td>\n",
       "      <td>Lite Racing Shoes</td>\n",
       "      <td>Size 10</td>\n",
       "      <td>2020-04-13T15:06:26</td>\n",
       "    </tr>\n",
       "    <tr>\n",
       "      <th>5</th>\n",
       "      <td>B75586</td>\n",
       "      <td>Men's</td>\n",
       "      <td>Running Rebound Shoes</td>\n",
       "      <td>Size 12</td>\n",
       "      <td>2020-04-13T15:06:30</td>\n",
       "    </tr>\n",
       "    <tr>\n",
       "      <th>6</th>\n",
       "      <td>CG4051</td>\n",
       "      <td>Women's</td>\n",
       "      <td>Inspired Victory Shoes</td>\n",
       "      <td>Size 8</td>\n",
       "      <td>2020-04-13T15:06:33</td>\n",
       "    </tr>\n",
       "    <tr>\n",
       "      <th>7</th>\n",
       "      <td>CM0080</td>\n",
       "      <td>Women's</td>\n",
       "      <td>Responsive Trail Shoes</td>\n",
       "      <td>Size 9</td>\n",
       "      <td>2020-04-13T15:06:36</td>\n",
       "    </tr>\n",
       "    <tr>\n",
       "      <th>8</th>\n",
       "      <td>B75990</td>\n",
       "      <td>Men's</td>\n",
       "      <td>Energy Boost Running Shoes</td>\n",
       "      <td>Size 13</td>\n",
       "      <td>2020-04-13T15:06:40</td>\n",
       "    </tr>\n",
       "    <tr>\n",
       "      <th>9</th>\n",
       "      <td>EE5761</td>\n",
       "      <td>Men's</td>\n",
       "      <td>Pure Bouncer Running Shoes</td>\n",
       "      <td>Size 9</td>\n",
       "      <td>2020-04-13T15:06:45</td>\n",
       "    </tr>\n",
       "  </tbody>\n",
       "</table>\n",
       "</div>"
      ],
      "text/plain": [
       "  Product ID Category                     Product     Size  \\\n",
       "0     AH2430  Women's         Blazing Trail Shoes   Size 9   \n",
       "1     G27341    Men's          Forest Trail Shoes  Size 11   \n",
       "2     CM0081  Women's         Swift Running Shoes   Size 7   \n",
       "3     B44832  Women's          Running Hard Shoes   Size 6   \n",
       "4     D98205    Men's           Lite Racing Shoes  Size 10   \n",
       "5     B75586    Men's       Running Rebound Shoes  Size 12   \n",
       "6     CG4051  Women's      Inspired Victory Shoes   Size 8   \n",
       "7     CM0080  Women's      Responsive Trail Shoes   Size 9   \n",
       "8     B75990    Men's  Energy Boost Running Shoes  Size 13   \n",
       "9     EE5761    Men's  Pure Bouncer Running Shoes   Size 9   \n",
       "\n",
       "          Last Visited  \n",
       "0  2020-04-13T15:06:15  \n",
       "1  2020-04-13T15:06:18  \n",
       "2  2020-04-13T15:06:20  \n",
       "3  2020-04-13T15:06:23  \n",
       "4  2020-04-13T15:06:26  \n",
       "5  2020-04-13T15:06:30  \n",
       "6  2020-04-13T15:06:33  \n",
       "7  2020-04-13T15:06:36  \n",
       "8  2020-04-13T15:06:40  \n",
       "9  2020-04-13T15:06:45  "
      ]
     },
     "execution_count": 36,
     "metadata": {},
     "output_type": "execute_result"
    }
   ],
   "source": [
    "#Create a new df split into columns\n",
    "new_orders_df = pd.DataFrame(new_order_rows, columns=new_order_columns[0])\n",
    "\n",
    "#Check the df\n",
    "new_orders_df"
   ]
  },
  {
   "attachments": {},
   "cell_type": "markdown",
   "metadata": {},
   "source": [
    "Alternate Method; 1 line only!"
   ]
  },
  {
   "cell_type": "code",
   "execution_count": 15,
   "metadata": {},
   "outputs": [
    {
     "data": {
      "text/html": [
       "<div>\n",
       "<style scoped>\n",
       "    .dataframe tbody tr th:only-of-type {\n",
       "        vertical-align: middle;\n",
       "    }\n",
       "\n",
       "    .dataframe tbody tr th {\n",
       "        vertical-align: top;\n",
       "    }\n",
       "\n",
       "    .dataframe thead th {\n",
       "        text-align: right;\n",
       "    }\n",
       "</style>\n",
       "<table border=\"1\" class=\"dataframe\">\n",
       "  <thead>\n",
       "    <tr style=\"text-align: right;\">\n",
       "      <th></th>\n",
       "      <th>Product ID</th>\n",
       "      <th>Category</th>\n",
       "      <th>Product</th>\n",
       "      <th>Size</th>\n",
       "      <th>Last Visited</th>\n",
       "    </tr>\n",
       "  </thead>\n",
       "  <tbody>\n",
       "    <tr>\n",
       "      <th>0</th>\n",
       "      <td>AH2430</td>\n",
       "      <td>Women's</td>\n",
       "      <td>Blazing Trail Shoes</td>\n",
       "      <td>Size 9</td>\n",
       "      <td>2020-04-13T15:06:15</td>\n",
       "    </tr>\n",
       "    <tr>\n",
       "      <th>1</th>\n",
       "      <td>G27341</td>\n",
       "      <td>Men's</td>\n",
       "      <td>Forest Trail Shoes</td>\n",
       "      <td>Size 11</td>\n",
       "      <td>2020-04-13T15:06:18</td>\n",
       "    </tr>\n",
       "    <tr>\n",
       "      <th>2</th>\n",
       "      <td>CM0081</td>\n",
       "      <td>Women's</td>\n",
       "      <td>Swift Running Shoes</td>\n",
       "      <td>Size 7</td>\n",
       "      <td>2020-04-13T15:06:20</td>\n",
       "    </tr>\n",
       "    <tr>\n",
       "      <th>3</th>\n",
       "      <td>B44832</td>\n",
       "      <td>Women's</td>\n",
       "      <td>Running Hard Shoes</td>\n",
       "      <td>Size 6</td>\n",
       "      <td>2020-04-13T15:06:23</td>\n",
       "    </tr>\n",
       "    <tr>\n",
       "      <th>4</th>\n",
       "      <td>D98205</td>\n",
       "      <td>Men's</td>\n",
       "      <td>Lite Racing Shoes</td>\n",
       "      <td>Size 10</td>\n",
       "      <td>2020-04-13T15:06:26</td>\n",
       "    </tr>\n",
       "    <tr>\n",
       "      <th>5</th>\n",
       "      <td>B75586</td>\n",
       "      <td>Men's</td>\n",
       "      <td>Running Rebound Shoes</td>\n",
       "      <td>Size 12</td>\n",
       "      <td>2020-04-13T15:06:30</td>\n",
       "    </tr>\n",
       "    <tr>\n",
       "      <th>6</th>\n",
       "      <td>CG4051</td>\n",
       "      <td>Women's</td>\n",
       "      <td>Inspired Victory Shoes</td>\n",
       "      <td>Size 8</td>\n",
       "      <td>2020-04-13T15:06:33</td>\n",
       "    </tr>\n",
       "    <tr>\n",
       "      <th>7</th>\n",
       "      <td>CM0080</td>\n",
       "      <td>Women's</td>\n",
       "      <td>Responsive Trail Shoes</td>\n",
       "      <td>Size 9</td>\n",
       "      <td>2020-04-13T15:06:36</td>\n",
       "    </tr>\n",
       "    <tr>\n",
       "      <th>8</th>\n",
       "      <td>B75990</td>\n",
       "      <td>Men's</td>\n",
       "      <td>Energy Boost Running Shoes</td>\n",
       "      <td>Size 13</td>\n",
       "      <td>2020-04-13T15:06:40</td>\n",
       "    </tr>\n",
       "    <tr>\n",
       "      <th>9</th>\n",
       "      <td>EE5761</td>\n",
       "      <td>Men's</td>\n",
       "      <td>Pure Bouncer Running Shoes</td>\n",
       "      <td>Size 9</td>\n",
       "      <td>2020-04-13T15:06:45</td>\n",
       "    </tr>\n",
       "  </tbody>\n",
       "</table>\n",
       "</div>"
      ],
      "text/plain": [
       "  Product ID Category                     Product     Size  \\\n",
       "0     AH2430  Women's         Blazing Trail Shoes   Size 9   \n",
       "1     G27341    Men's          Forest Trail Shoes  Size 11   \n",
       "2     CM0081  Women's         Swift Running Shoes   Size 7   \n",
       "3     B44832  Women's          Running Hard Shoes   Size 6   \n",
       "4     D98205    Men's           Lite Racing Shoes  Size 10   \n",
       "5     B75586    Men's       Running Rebound Shoes  Size 12   \n",
       "6     CG4051  Women's      Inspired Victory Shoes   Size 8   \n",
       "7     CM0080  Women's      Responsive Trail Shoes   Size 9   \n",
       "8     B75990    Men's  Energy Boost Running Shoes  Size 13   \n",
       "9     EE5761    Men's  Pure Bouncer Running Shoes   Size 9   \n",
       "\n",
       "          Last Visited  \n",
       "0  2020-04-13T15:06:15  \n",
       "1  2020-04-13T15:06:18  \n",
       "2  2020-04-13T15:06:20  \n",
       "3  2020-04-13T15:06:23  \n",
       "4  2020-04-13T15:06:26  \n",
       "5  2020-04-13T15:06:30  \n",
       "6  2020-04-13T15:06:33  \n",
       "7  2020-04-13T15:06:36  \n",
       "8  2020-04-13T15:06:40  \n",
       "9  2020-04-13T15:06:45  "
      ]
     },
     "execution_count": 15,
     "metadata": {},
     "output_type": "execute_result"
    }
   ],
   "source": [
    "#Create an empty dataframe\n",
    "quick_orders_df = pd.DataFrame()\n",
    "\n",
    "#Use .str.split() to split data\n",
    "quick_orders_df[['Product ID', 'Category', 'Product', 'Size', 'Last Visited']] = orders_df['Product ID,Category,Product,Size,Last Visited'].str.split(\",\", n=5, expand=True)\n",
    "\n",
    "#Check df\n",
    "quick_orders_df"
   ]
  },
  {
   "attachments": {},
   "cell_type": "markdown",
   "metadata": {},
   "source": [
    "Bit tedious that you have to write out the list strings... using variables doesn't work. "
   ]
  },
  {
   "cell_type": "code",
   "execution_count": 37,
   "metadata": {},
   "outputs": [
    {
     "data": {
      "text/html": [
       "<div>\n",
       "<style scoped>\n",
       "    .dataframe tbody tr th:only-of-type {\n",
       "        vertical-align: middle;\n",
       "    }\n",
       "\n",
       "    .dataframe tbody tr th {\n",
       "        vertical-align: top;\n",
       "    }\n",
       "\n",
       "    .dataframe thead th {\n",
       "        text-align: right;\n",
       "    }\n",
       "</style>\n",
       "<table border=\"1\" class=\"dataframe\">\n",
       "  <thead>\n",
       "    <tr style=\"text-align: right;\">\n",
       "      <th></th>\n",
       "      <th>productID</th>\n",
       "      <th>category</th>\n",
       "      <th>product</th>\n",
       "      <th>size</th>\n",
       "      <th>lastvisited</th>\n",
       "    </tr>\n",
       "  </thead>\n",
       "  <tbody>\n",
       "    <tr>\n",
       "      <th>0</th>\n",
       "      <td>AH2430</td>\n",
       "      <td>Women's</td>\n",
       "      <td>Blazing Trail Shoes</td>\n",
       "      <td>Size 9</td>\n",
       "      <td>2020-04-13T15:06:15</td>\n",
       "    </tr>\n",
       "    <tr>\n",
       "      <th>1</th>\n",
       "      <td>G27341</td>\n",
       "      <td>Men's</td>\n",
       "      <td>Forest Trail Shoes</td>\n",
       "      <td>Size 11</td>\n",
       "      <td>2020-04-13T15:06:18</td>\n",
       "    </tr>\n",
       "  </tbody>\n",
       "</table>\n",
       "</div>"
      ],
      "text/plain": [
       "  productID category              product     size          lastvisited\n",
       "0    AH2430  Women's  Blazing Trail Shoes   Size 9  2020-04-13T15:06:15\n",
       "1    G27341    Men's   Forest Trail Shoes  Size 11  2020-04-13T15:06:18"
      ]
     },
     "execution_count": 37,
     "metadata": {},
     "output_type": "execute_result"
    }
   ],
   "source": [
    "#Rename the columns\n",
    "new_orders_df.rename(columns={\n",
    "    \"Product ID\": \"productID\",\n",
    "    \"Category\": \"category\",\n",
    "    \"Product\": \"product\",\n",
    "    \"Size\": \"size\",\n",
    "    \"Last Visited\": \"lastvisited\"}, inplace=True)\n",
    "\n",
    "#Check df\n",
    "new_orders_df.head(2)"
   ]
  },
  {
   "attachments": {},
   "cell_type": "markdown",
   "metadata": {},
   "source": [
    "You need to use inplace to ensure the original df is updated."
   ]
  },
  {
   "cell_type": "code",
   "execution_count": 38,
   "metadata": {},
   "outputs": [
    {
     "data": {
      "text/html": [
       "<div>\n",
       "<style scoped>\n",
       "    .dataframe tbody tr th:only-of-type {\n",
       "        vertical-align: middle;\n",
       "    }\n",
       "\n",
       "    .dataframe tbody tr th {\n",
       "        vertical-align: top;\n",
       "    }\n",
       "\n",
       "    .dataframe thead th {\n",
       "        text-align: right;\n",
       "    }\n",
       "</style>\n",
       "<table border=\"1\" class=\"dataframe\">\n",
       "  <thead>\n",
       "    <tr style=\"text-align: right;\">\n",
       "      <th></th>\n",
       "      <th>productID</th>\n",
       "      <th>category</th>\n",
       "      <th>product</th>\n",
       "      <th>size</th>\n",
       "      <th>lastvisited</th>\n",
       "    </tr>\n",
       "  </thead>\n",
       "  <tbody>\n",
       "    <tr>\n",
       "      <th>0</th>\n",
       "      <td>AH2430</td>\n",
       "      <td>Women's</td>\n",
       "      <td>Blazing Trail Shoes</td>\n",
       "      <td>9</td>\n",
       "      <td>2020-04-13T15:06:15</td>\n",
       "    </tr>\n",
       "    <tr>\n",
       "      <th>1</th>\n",
       "      <td>G27341</td>\n",
       "      <td>Men's</td>\n",
       "      <td>Forest Trail Shoes</td>\n",
       "      <td>11</td>\n",
       "      <td>2020-04-13T15:06:18</td>\n",
       "    </tr>\n",
       "  </tbody>\n",
       "</table>\n",
       "</div>"
      ],
      "text/plain": [
       "  productID category              product size          lastvisited\n",
       "0    AH2430  Women's  Blazing Trail Shoes    9  2020-04-13T15:06:15\n",
       "1    G27341    Men's   Forest Trail Shoes   11  2020-04-13T15:06:18"
      ]
     },
     "execution_count": 38,
     "metadata": {},
     "output_type": "execute_result"
    }
   ],
   "source": [
    "#Remove the word 'Size' & trailing whitespace from the Size values\n",
    "new_orders_df[\"size\"] = new_orders_df['size'].str.replace(\"Size \", \"\")\n",
    "\n",
    "#Check df\n",
    "new_orders_df.head(2)"
   ]
  },
  {
   "cell_type": "code",
   "execution_count": 39,
   "metadata": {},
   "outputs": [
    {
     "data": {
      "text/plain": [
       "productID      object\n",
       "category       object\n",
       "product        object\n",
       "size           object\n",
       "lastvisited    object\n",
       "dtype: object"
      ]
     },
     "execution_count": 39,
     "metadata": {},
     "output_type": "execute_result"
    }
   ],
   "source": [
    "#Check size data type\n",
    "new_orders_df.dtypes"
   ]
  },
  {
   "cell_type": "code",
   "execution_count": 40,
   "metadata": {},
   "outputs": [
    {
     "data": {
      "text/plain": [
       "productID      object\n",
       "category       object\n",
       "product        object\n",
       "size            int64\n",
       "lastvisited    object\n",
       "dtype: object"
      ]
     },
     "execution_count": 40,
     "metadata": {},
     "output_type": "execute_result"
    }
   ],
   "source": [
    "#Change size column to integer data type\n",
    "new_orders_df = new_orders_df.astype({\"size\": int}, errors='raise')\n",
    "\n",
    "#Check change applied\n",
    "new_orders_df.dtypes"
   ]
  },
  {
   "cell_type": "code",
   "execution_count": 41,
   "metadata": {},
   "outputs": [
    {
     "data": {
      "text/plain": [
       "productID              object\n",
       "category               object\n",
       "product                object\n",
       "size                    int64\n",
       "lastvisited    datetime64[ns]\n",
       "dtype: object"
      ]
     },
     "execution_count": 41,
     "metadata": {},
     "output_type": "execute_result"
    }
   ],
   "source": [
    "#Convert 'lastvisited' data type to datetime\n",
    "new_orders_df['lastvisited'] = pd.to_datetime(new_orders_df['lastvisited'])\n",
    "\n",
    "#Check changes applied \n",
    "new_orders_df.dtypes"
   ]
  },
  {
   "cell_type": "code",
   "execution_count": 42,
   "metadata": {},
   "outputs": [
    {
     "data": {
      "text/html": [
       "<div>\n",
       "<style scoped>\n",
       "    .dataframe tbody tr th:only-of-type {\n",
       "        vertical-align: middle;\n",
       "    }\n",
       "\n",
       "    .dataframe tbody tr th {\n",
       "        vertical-align: top;\n",
       "    }\n",
       "\n",
       "    .dataframe thead th {\n",
       "        text-align: right;\n",
       "    }\n",
       "</style>\n",
       "<table border=\"1\" class=\"dataframe\">\n",
       "  <thead>\n",
       "    <tr style=\"text-align: right;\">\n",
       "      <th></th>\n",
       "      <th>productID</th>\n",
       "      <th>category</th>\n",
       "      <th>product</th>\n",
       "      <th>size</th>\n",
       "      <th>lastvisited</th>\n",
       "    </tr>\n",
       "  </thead>\n",
       "  <tbody>\n",
       "    <tr>\n",
       "      <th>0</th>\n",
       "      <td>AH2430</td>\n",
       "      <td>Women's</td>\n",
       "      <td>Blazing Trail Shoes</td>\n",
       "      <td>9</td>\n",
       "      <td>2020-04-13 15:06:15</td>\n",
       "    </tr>\n",
       "    <tr>\n",
       "      <th>1</th>\n",
       "      <td>G27341</td>\n",
       "      <td>Men's</td>\n",
       "      <td>Forest Trail Shoes</td>\n",
       "      <td>11</td>\n",
       "      <td>2020-04-13 15:06:18</td>\n",
       "    </tr>\n",
       "    <tr>\n",
       "      <th>2</th>\n",
       "      <td>CM0081</td>\n",
       "      <td>Women's</td>\n",
       "      <td>Swift Running Shoes</td>\n",
       "      <td>7</td>\n",
       "      <td>2020-04-13 15:06:20</td>\n",
       "    </tr>\n",
       "    <tr>\n",
       "      <th>3</th>\n",
       "      <td>B44832</td>\n",
       "      <td>Women's</td>\n",
       "      <td>Running Hard Shoes</td>\n",
       "      <td>6</td>\n",
       "      <td>2020-04-13 15:06:23</td>\n",
       "    </tr>\n",
       "    <tr>\n",
       "      <th>4</th>\n",
       "      <td>D98205</td>\n",
       "      <td>Men's</td>\n",
       "      <td>Lite Racing Shoes</td>\n",
       "      <td>10</td>\n",
       "      <td>2020-04-13 15:06:26</td>\n",
       "    </tr>\n",
       "    <tr>\n",
       "      <th>5</th>\n",
       "      <td>B75586</td>\n",
       "      <td>Men's</td>\n",
       "      <td>Running Rebound Shoes</td>\n",
       "      <td>12</td>\n",
       "      <td>2020-04-13 15:06:30</td>\n",
       "    </tr>\n",
       "    <tr>\n",
       "      <th>6</th>\n",
       "      <td>CG4051</td>\n",
       "      <td>Women's</td>\n",
       "      <td>Inspired Victory Shoes</td>\n",
       "      <td>8</td>\n",
       "      <td>2020-04-13 15:06:33</td>\n",
       "    </tr>\n",
       "    <tr>\n",
       "      <th>7</th>\n",
       "      <td>CM0080</td>\n",
       "      <td>Women's</td>\n",
       "      <td>Responsive Trail Shoes</td>\n",
       "      <td>9</td>\n",
       "      <td>2020-04-13 15:06:36</td>\n",
       "    </tr>\n",
       "    <tr>\n",
       "      <th>8</th>\n",
       "      <td>B75990</td>\n",
       "      <td>Men's</td>\n",
       "      <td>Energy Boost Running Shoes</td>\n",
       "      <td>13</td>\n",
       "      <td>2020-04-13 15:06:40</td>\n",
       "    </tr>\n",
       "    <tr>\n",
       "      <th>9</th>\n",
       "      <td>EE5761</td>\n",
       "      <td>Men's</td>\n",
       "      <td>Pure Bouncer Running Shoes</td>\n",
       "      <td>9</td>\n",
       "      <td>2020-04-13 15:06:45</td>\n",
       "    </tr>\n",
       "  </tbody>\n",
       "</table>\n",
       "</div>"
      ],
      "text/plain": [
       "  productID category                     product  size         lastvisited\n",
       "0    AH2430  Women's         Blazing Trail Shoes     9 2020-04-13 15:06:15\n",
       "1    G27341    Men's          Forest Trail Shoes    11 2020-04-13 15:06:18\n",
       "2    CM0081  Women's         Swift Running Shoes     7 2020-04-13 15:06:20\n",
       "3    B44832  Women's          Running Hard Shoes     6 2020-04-13 15:06:23\n",
       "4    D98205    Men's           Lite Racing Shoes    10 2020-04-13 15:06:26\n",
       "5    B75586    Men's       Running Rebound Shoes    12 2020-04-13 15:06:30\n",
       "6    CG4051  Women's      Inspired Victory Shoes     8 2020-04-13 15:06:33\n",
       "7    CM0080  Women's      Responsive Trail Shoes     9 2020-04-13 15:06:36\n",
       "8    B75990    Men's  Energy Boost Running Shoes    13 2020-04-13 15:06:40\n",
       "9    EE5761    Men's  Pure Bouncer Running Shoes     9 2020-04-13 15:06:45"
      ]
     },
     "execution_count": 42,
     "metadata": {},
     "output_type": "execute_result"
    }
   ],
   "source": [
    "#View the final df\n",
    "new_orders_df"
   ]
  }
 ],
 "metadata": {
  "kernelspec": {
   "display_name": "base",
   "language": "python",
   "name": "python3"
  },
  "language_info": {
   "codemirror_mode": {
    "name": "ipython",
    "version": 3
   },
   "file_extension": ".py",
   "mimetype": "text/x-python",
   "name": "python",
   "nbconvert_exporter": "python",
   "pygments_lexer": "ipython3",
   "version": "3.9.12"
  },
  "orig_nbformat": 4
 },
 "nbformat": 4,
 "nbformat_minor": 2
}
