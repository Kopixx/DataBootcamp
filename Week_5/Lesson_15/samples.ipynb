{
 "cells": [
  {
   "cell_type": "code",
   "execution_count": 2,
   "metadata": {},
   "outputs": [],
   "source": [
    "# Dependencies\n",
    "import pandas as pd\n",
    "import matplotlib.pyplot as plt\n",
    "import scipy.stats as st\n",
    "import numpy as np"
   ]
  },
  {
   "cell_type": "code",
   "execution_count": 3,
   "metadata": {},
   "outputs": [
    {
     "data": {
      "text/html": [
       "<div>\n",
       "<style scoped>\n",
       "    .dataframe tbody tr th:only-of-type {\n",
       "        vertical-align: middle;\n",
       "    }\n",
       "\n",
       "    .dataframe tbody tr th {\n",
       "        vertical-align: top;\n",
       "    }\n",
       "\n",
       "    .dataframe thead th {\n",
       "        text-align: right;\n",
       "    }\n",
       "</style>\n",
       "<table border=\"1\" class=\"dataframe\">\n",
       "  <thead>\n",
       "    <tr style=\"text-align: right;\">\n",
       "      <th></th>\n",
       "      <th>STATION</th>\n",
       "      <th>DATE</th>\n",
       "      <th>REPORT_TYPE</th>\n",
       "      <th>HourlyDryBulbTemperature (C)</th>\n",
       "    </tr>\n",
       "  </thead>\n",
       "  <tbody>\n",
       "    <tr>\n",
       "      <th>0</th>\n",
       "      <td>72295023174</td>\n",
       "      <td>2019-01-01T00:49:00</td>\n",
       "      <td>FM-16</td>\n",
       "      <td>11.1</td>\n",
       "    </tr>\n",
       "    <tr>\n",
       "      <th>1</th>\n",
       "      <td>72295023174</td>\n",
       "      <td>2019-01-01T00:53:00</td>\n",
       "      <td>FM-15</td>\n",
       "      <td>10.6</td>\n",
       "    </tr>\n",
       "    <tr>\n",
       "      <th>2</th>\n",
       "      <td>72295023174</td>\n",
       "      <td>2019-01-01T01:53:00</td>\n",
       "      <td>FM-15</td>\n",
       "      <td>11.1</td>\n",
       "    </tr>\n",
       "    <tr>\n",
       "      <th>3</th>\n",
       "      <td>72295023174</td>\n",
       "      <td>2019-01-01T02:53:00</td>\n",
       "      <td>FM-15</td>\n",
       "      <td>9.4</td>\n",
       "    </tr>\n",
       "    <tr>\n",
       "      <th>4</th>\n",
       "      <td>72295023174</td>\n",
       "      <td>2019-01-01T03:53:00</td>\n",
       "      <td>FM-15</td>\n",
       "      <td>6.1</td>\n",
       "    </tr>\n",
       "  </tbody>\n",
       "</table>\n",
       "</div>"
      ],
      "text/plain": [
       "       STATION                 DATE REPORT_TYPE  HourlyDryBulbTemperature (C)\n",
       "0  72295023174  2019-01-01T00:49:00       FM-16                          11.1\n",
       "1  72295023174  2019-01-01T00:53:00       FM-15                          10.6\n",
       "2  72295023174  2019-01-01T01:53:00       FM-15                          11.1\n",
       "3  72295023174  2019-01-01T02:53:00       FM-15                           9.4\n",
       "4  72295023174  2019-01-01T03:53:00       FM-15                           6.1"
      ]
     },
     "execution_count": 3,
     "metadata": {},
     "output_type": "execute_result"
    }
   ],
   "source": [
    "# Read in the LAX temperature data\n",
    "filepath = \"~/Documents/PythonProjects/DataBootcamp/Lesson_15/lax_temperature.csv\"\n",
    "lax_df = pd.read_csv(filepath)\n",
    "lax_df.head()"
   ]
  },
  {
   "cell_type": "code",
   "execution_count": 8,
   "metadata": {},
   "outputs": [
    {
     "name": "stdout",
     "output_type": "stream",
     "text": [
      "The mean temperature at the LAX airport is 14.25\n",
      "The median temperature at the LAX airport is 13.9\n",
      "The mode temperature at the LAX airport is 13.9\n"
     ]
    }
   ],
   "source": [
    "# Demonstrate calculating measures of central tendency\n",
    "#Mean\n",
    "mean_temp = np.mean(lax_df[\"HourlyDryBulbTemperature (C)\"])\n",
    "print(f'The mean temperature at the LAX airport is {round((mean_temp), 2)}')\n",
    "\n",
    "#Median\n",
    "median_temp = np.median(lax_df[\"HourlyDryBulbTemperature (C)\"])\n",
    "print(f'The median temperature at the LAX airport is {median_temp}')\n",
    "\n",
    "#Mode\n",
    "mode_temp = st.mode(lax_df[\"HourlyDryBulbTemperature (C)\"], keepdims=False)\n",
    "print(f'The mode temperature at the LAX airport is {mode_temp[0]}')"
   ]
  },
  {
   "cell_type": "code",
   "execution_count": 17,
   "metadata": {},
   "outputs": [
    {
     "data": {
      "image/png": "[encoded data removed]",
      "text/plain": [
       "<Figure size 640x480 with 1 Axes>"
      ]
     },
     "metadata": {},
     "output_type": "display_data"
    }
   ],
   "source": [
    "# Characterize the data set using matplotlib and stats.normaltest\n",
    "plt.hist(lax_df[\"HourlyDryBulbTemperature (C)\"])\n",
    "plt.xlabel(\"Temperature (C)\")\n",
    "plt.ylabel(\"Counts\")\n",
    "plt.show()"
   ]
  },
  {
   "cell_type": "code",
   "execution_count": 19,
   "metadata": {},
   "outputs": [
    {
     "name": "stdout",
     "output_type": "stream",
     "text": [
      "The p-value is 5.841834570721464e-45 and the null hypothesis can be rejected; the sample does not come from a normal distribution\n"
     ]
    }
   ],
   "source": [
    "# Run the normality test on the whole temperatures DataFrame.\n",
    "# The null hypothesis is that the sample comes from a normal distribution\n",
    "# If p-value < alpha, the null hypothesis can be rejected\n",
    "alpha = 0.05\n",
    "normaltest = st.normaltest(lax_df[\"HourlyDryBulbTemperature (C)\"])\n",
    "p = normaltest[1]\n",
    "\n",
    "if p < alpha:\n",
    "    print(f'The p-value is {p} and the null hypothesis can be rejected; the sample does not come from a normal distribution')\n",
    "else:\n",
    "    print(f'The p-value is {p} and the null hypothesis cannot be rejected; the sample does come from a normal distribution')"
   ]
  },
  {
   "cell_type": "code",
   "execution_count": 22,
   "metadata": {},
   "outputs": [
    {
     "name": "stdout",
     "output_type": "stream",
     "text": [
      "The population variance using the NumPy module is 9.99\n",
      "The population standard deviation using the NumPy module is 3.16\n"
     ]
    }
   ],
   "source": [
    "# Demonstrate calculating the variance and standard deviation using the different modules\n",
    "#Variance\n",
    "variance = np.var(lax_df[\"HourlyDryBulbTemperature (C)\"])\n",
    "print(f'The population variance using the NumPy module is {round(variance, 2)}.')\n",
    "\n",
    "#Standard Deviation\n",
    "sd = np.std(lax_df[\"HourlyDryBulbTemperature (C)\"])\n",
    "print(f'The population standard deviation using the NumPy module is {round(sd, 2)}.')"
   ]
  },
  {
   "cell_type": "code",
   "execution_count": 25,
   "metadata": {},
   "outputs": [
    {
     "name": "stdout",
     "output_type": "stream",
     "text": [
      "Roughly 68% of the data is between 11.09 and 17.41.\n",
      "Roughly 95% of the data is between 7.93 and 20.57.\n",
      "Roughly 99.7% of the data is between 4.77 and 23.73.\n"
     ]
    }
   ],
   "source": [
    "# Calculate the 68-95-99.7 rule using the standard deviation\n",
    "print(f'Roughly 68% of the data is between {round((mean_temp-sd),2)} and {round((mean_temp+sd), 2)}.')\n",
    "print(f'Roughly 95% of the data is between {round((mean_temp-(2*sd)),2)} and {round((mean_temp+(2*sd)), 2)}.')\n",
    "print(f'Roughly 99.7% of the data is between {round((mean_temp-(3*sd)),2)} and {round((mean_temp+(3*sd)), 2)}.')"
   ]
  },
  {
   "cell_type": "code",
   "execution_count": 26,
   "metadata": {},
   "outputs": [
    {
     "name": "stdout",
     "output_type": "stream",
     "text": [
      "The z-scores using the SciPy module are: 0      -0.997612\n",
      "1      -1.155842\n",
      "2      -0.997612\n",
      "3      -1.535596\n",
      "4      -2.579919\n",
      "          ...   \n",
      "3524    0.426465\n",
      "3525    0.236588\n",
      "3526    0.046711\n",
      "3527    0.046711\n",
      "3528    0.046711\n",
      "Name: HourlyDryBulbTemperature (C), Length: 3529, dtype: float64\n"
     ]
    }
   ],
   "source": [
    "# Demonstrate calculating the z-scores using SciPy\n",
    "z_scores = st.zscore(lax_df[\"HourlyDryBulbTemperature (C)\"])\n",
    "print(f'The z-scores using the SciPy module are: {z_scores}')"
   ]
  },
  {
   "cell_type": "code",
   "execution_count": 31,
   "metadata": {},
   "outputs": [
    {
     "data": {
      "text/plain": [
       "<function matplotlib.pyplot.show(close=None, block=None)>"
      ]
     },
     "execution_count": 31,
     "metadata": {},
     "output_type": "execute_result"
    },
    {
     "data": {
      "image/png": "[encoded data removed]",
      "text/plain": [
       "<Figure size 640x480 with 1 Axes>"
      ]
     },
     "metadata": {},
     "output_type": "display_data"
    }
   ],
   "source": [
    "# Example outlier plot of reaction times\n",
    "times = [96,98,100,105,85,88,95,100,101,102,97,98,5]\n",
    "\n",
    "plt.boxplot(times)\n",
    "plt.title(\"Reaction Times at Tennis Batting Cage\")\n",
    "plt.ylabel(\"Reaction Time (ms)\")\n",
    "plt.show"
   ]
  },
  {
   "cell_type": "code",
   "execution_count": 32,
   "metadata": {},
   "outputs": [
    {
     "data": {
      "text/plain": [
       "<function matplotlib.pyplot.show(close=None, block=None)>"
      ]
     },
     "execution_count": 32,
     "metadata": {},
     "output_type": "execute_result"
    },
    {
     "data": {
      "image/png": "[encoded data removed]",
      "text/plain": [
       "<Figure size 640x480 with 1 Axes>"
      ]
     },
     "metadata": {},
     "output_type": "display_data"
    }
   ],
   "source": [
    "#Create a boxplot of the LAX temperature data\n",
    "plt.boxplot(lax_df[\"HourlyDryBulbTemperature (C)\"])\n",
    "plt.title(\"Temperatures as LAX\")\n",
    "plt.ylabel(\"Degrees(C)\")\n",
    "plt.show()"
   ]
  },
  {
   "cell_type": "code",
   "execution_count": 43,
   "metadata": {},
   "outputs": [
    {
     "name": "stdout",
     "output_type": "stream",
     "text": [
      "The lower quartile of the temperatures is: 12.2.\n",
      "The upper quartile of the temperatures is: 15.6.\n",
      "The interquartile range of the temperatures is: 3.4000000000000004.\n",
      "The median of the temperatures is: 13.9.\n",
      "Values below 7.099999999999999 could be outliers.\n",
      "Values above 20.7 could be outliers.\n"
     ]
    }
   ],
   "source": [
    "#Evaluate the quantiles of the LAX temperature data\n",
    "quartiles = np.percentile(lax_df[\"HourlyDryBulbTemperature (C)\"], [25, 50, 75])\n",
    "q1 = quartiles[0]\n",
    "q2 = quartiles[1]\n",
    "q3 = quartiles[2]\n",
    "iqr = q3-q1\n",
    "\n",
    "print(f'The lower quartile of the temperatures is: {q1}.')\n",
    "print(f'The upper quartile of the temperatures is: {q3}.')\n",
    "print(f'The interquartile range of the temperatures is: {iqr}.')\n",
    "print(f'The median of the temperatures is: {q2}.')\n",
    "print(f'Values below {q1-(1.5*iqr)} could be outliers.')\n",
    "print(f'Values above {q3+(1.5*iqr)} could be outliers.')\n"
   ]
  }
 ],
 "metadata": {
  "kernelspec": {
   "display_name": "base",
   "language": "python",
   "name": "python3"
  },
  "language_info": {
   "codemirror_mode": {
    "name": "ipython",
    "version": 3
   },
   "file_extension": ".py",
   "mimetype": "text/x-python",
   "name": "python",
   "nbconvert_exporter": "python",
   "pygments_lexer": "ipython3",
   "version": "3.9.13"
  },
  "vscode": {
   "interpreter": {
    "hash": "75b5e6e40de8efd579bacd37f0917150d3591fd85348e2eefb42f431abb467f0"
   }
  }
 },
 "nbformat": 4,
 "nbformat_minor": 2
}
