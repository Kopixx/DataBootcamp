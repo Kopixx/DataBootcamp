{
 "cells": [
  {
   "cell_type": "code",
   "execution_count": 7,
   "metadata": {},
   "outputs": [],
   "source": [
    "# Dependencies\n",
    "import requests\n",
    "import json\n",
    "\n",
    "api_key = \"a9ffef9d\"\n",
    "url = f\"http://www.omdbapi.com/?apikey={api_key}&t=\""
   ]
  },
  {
   "cell_type": "code",
   "execution_count": 8,
   "metadata": {},
   "outputs": [
    {
     "name": "stdout",
     "output_type": "stream",
     "text": [
      "{\n",
      "    \"Actors\": \"Sigourney Weaver, Michael Biehn, Carrie Henn\",\n",
      "    \"Awards\": \"Won 2 Oscars. 20 wins & 23 nominations total\",\n",
      "    \"BoxOffice\": \"$85,160,248\",\n",
      "    \"Country\": \"United Kingdom, United States\",\n",
      "    \"DVD\": \"01 Jun 1999\",\n",
      "    \"Director\": \"James Cameron\",\n",
      "    \"Genre\": \"Action, Adventure, Sci-Fi\",\n",
      "    \"Language\": \"English, Spanish\",\n",
      "    \"Metascore\": \"84\",\n",
      "    \"Plot\": \"Decades after surviving the Nostromo incident, Ellen Ripley is sent out to re-establish contact with a terraforming colony, but finds herself battling the Alien Queen and her offspring.\",\n",
      "    \"Poster\": \"https://m.media-amazon.com/images/M/MV5BZTM1Nzk5ZTItN2ZkNi00MDRjLWIwYWUtOWY4ZjZmZjkyM2I0XkEyXkFqcGdeQXVyNTU1NTcwOTk@._V1_SX300.jpg\",\n",
      "    \"Production\": \"N/A\",\n",
      "    \"Rated\": \"R\",\n",
      "    \"Ratings\": [\n",
      "        {\n",
      "            \"Source\": \"Internet Movie Database\",\n",
      "            \"Value\": \"8.4/10\"\n",
      "        },\n",
      "        {\n",
      "            \"Source\": \"Rotten Tomatoes\",\n",
      "            \"Value\": \"98%\"\n",
      "        },\n",
      "        {\n",
      "            \"Source\": \"Metacritic\",\n",
      "            \"Value\": \"84/100\"\n",
      "        }\n",
      "    ],\n",
      "    \"Released\": \"18 Jul 1986\",\n",
      "    \"Response\": \"True\",\n",
      "    \"Runtime\": \"137 min\",\n",
      "    \"Title\": \"Aliens\",\n",
      "    \"Type\": \"movie\",\n",
      "    \"Website\": \"N/A\",\n",
      "    \"Writer\": \"James Cameron, David Giler, Walter Hill\",\n",
      "    \"Year\": \"1986\",\n",
      "    \"imdbID\": \"tt0090605\",\n",
      "    \"imdbRating\": \"8.4\",\n",
      "    \"imdbVotes\": \"725,065\"\n",
      "}\n"
     ]
    }
   ],
   "source": [
    "# Who was the director of the movie Aliens?\n",
    "movie = requests.get(url + \"Aliens\").json()\n",
    "# print(json.dumps(movie, indent=4, sort_keys=True))"
   ]
  },
  {
   "cell_type": "code",
   "execution_count": 9,
   "metadata": {},
   "outputs": [
    {
     "name": "stdout",
     "output_type": "stream",
     "text": [
      "The director of the movie Aliens is James Cameron\n"
     ]
    }
   ],
   "source": [
    "director = movie[\"Director\"]\n",
    "print(f'The director of the movie Aliens is {director}.')"
   ]
  },
  {
   "cell_type": "code",
   "execution_count": 10,
   "metadata": {
    "scrolled": true
   },
   "outputs": [
    {
     "name": "stdout",
     "output_type": "stream",
     "text": [
      "{\n",
      "    \"Actors\": \"Russell Crowe, Joaquin Phoenix, Connie Nielsen\",\n",
      "    \"Awards\": \"Won 5 Oscars. 60 wins & 106 nominations total\",\n",
      "    \"BoxOffice\": \"$187,705,427\",\n",
      "    \"Country\": \"United States, United Kingdom, Malta, Morocco\",\n",
      "    \"DVD\": \"26 Sep 2000\",\n",
      "    \"Director\": \"Ridley Scott\",\n",
      "    \"Genre\": \"Action, Adventure, Drama\",\n",
      "    \"Language\": \"English\",\n",
      "    \"Metascore\": \"67\",\n",
      "    \"Plot\": \"A former Roman General sets out to exact vengeance against the corrupt emperor who murdered his family and sent him into slavery.\",\n",
      "    \"Poster\": \"https://m.media-amazon.com/images/M/MV5BMDliMmNhNDEtODUyOS00MjNlLTgxODEtN2U3NzIxMGVkZTA1L2ltYWdlXkEyXkFqcGdeQXVyNjU0OTQ0OTY@._V1_SX300.jpg\",\n",
      "    \"Production\": \"N/A\",\n",
      "    \"Rated\": \"R\",\n",
      "    \"Ratings\": [\n",
      "        {\n",
      "            \"Source\": \"Internet Movie Database\",\n",
      "            \"Value\": \"8.5/10\"\n",
      "        },\n",
      "        {\n",
      "            \"Source\": \"Rotten Tomatoes\",\n",
      "            \"Value\": \"79%\"\n",
      "        },\n",
      "        {\n",
      "            \"Source\": \"Metacritic\",\n",
      "            \"Value\": \"67/100\"\n",
      "        }\n",
      "    ],\n",
      "    \"Released\": \"05 May 2000\",\n",
      "    \"Response\": \"True\",\n",
      "    \"Runtime\": \"155 min\",\n",
      "    \"Title\": \"Gladiator\",\n",
      "    \"Type\": \"movie\",\n",
      "    \"Website\": \"N/A\",\n",
      "    \"Writer\": \"David Franzoni, John Logan, William Nicholson\",\n",
      "    \"Year\": \"2000\",\n",
      "    \"imdbID\": \"tt0172495\",\n",
      "    \"imdbRating\": \"8.5\",\n",
      "    \"imdbVotes\": \"1,515,969\"\n",
      "}\n"
     ]
    }
   ],
   "source": [
    "# What was the movie Gladiator rated?\n",
    "movie = requests.get(url + \"Gladiator\").json()\n",
    "# print(json.dumps(movie, indent=4, sort_keys=True))"
   ]
  },
  {
   "cell_type": "code",
   "execution_count": 11,
   "metadata": {},
   "outputs": [
    {
     "name": "stdout",
     "output_type": "stream",
     "text": [
      "The movie Gladiator was rated R.\n"
     ]
    }
   ],
   "source": [
    "rated = movie[\"Rated\"]\n",
    "print(f'The movie Gladiator was rated {rated}.')"
   ]
  },
  {
   "cell_type": "code",
   "execution_count": 12,
   "metadata": {},
   "outputs": [
    {
     "name": "stdout",
     "output_type": "stream",
     "text": [
      "{\n",
      "    \"Actors\": \"Adam Sandler, Drew Barrymore, Rob Schneider\",\n",
      "    \"Awards\": \"6 wins & 10 nominations\",\n",
      "    \"BoxOffice\": \"$120,908,074\",\n",
      "    \"Country\": \"United States\",\n",
      "    \"DVD\": \"15 Jun 2004\",\n",
      "    \"Director\": \"Peter Segal\",\n",
      "    \"Genre\": \"Comedy, Drama, Romance\",\n",
      "    \"Language\": \"English, Hawaiian, Mandarin\",\n",
      "    \"Metascore\": \"48\",\n",
      "    \"Plot\": \"Henry Roth is a man afraid of commitment until he meets the beautiful Lucy. They hit it off and Henry think he's finally found the girl of his dreams until discovering she has short-term memory loss and forgets him the next day.\",\n",
      "    \"Poster\": \"https://m.media-amazon.com/images/M/MV5BMjAwMzc4MDgxNF5BMl5BanBnXkFtZTYwNjUwMzE3._V1_SX300.jpg\",\n",
      "    \"Production\": \"N/A\",\n",
      "    \"Rated\": \"PG-13\",\n",
      "    \"Ratings\": [\n",
      "        {\n",
      "            \"Source\": \"Internet Movie Database\",\n",
      "            \"Value\": \"6.8/10\"\n",
      "        },\n",
      "        {\n",
      "            \"Source\": \"Rotten Tomatoes\",\n",
      "            \"Value\": \"45%\"\n",
      "        },\n",
      "        {\n",
      "            \"Source\": \"Metacritic\",\n",
      "            \"Value\": \"48/100\"\n",
      "        }\n",
      "    ],\n",
      "    \"Released\": \"13 Feb 2004\",\n",
      "    \"Response\": \"True\",\n",
      "    \"Runtime\": \"99 min\",\n",
      "    \"Title\": \"50 First Dates\",\n",
      "    \"Type\": \"movie\",\n",
      "    \"Website\": \"N/A\",\n",
      "    \"Writer\": \"George Wing\",\n",
      "    \"Year\": \"2004\",\n",
      "    \"imdbID\": \"tt0343660\",\n",
      "    \"imdbRating\": \"6.8\",\n",
      "    \"imdbVotes\": \"362,206\"\n",
      "}\n"
     ]
    }
   ],
   "source": [
    "# What year was 50 First Dates released?\n",
    "movie = requests.get(url + \"50 First Dates\").json()\n",
    "# print(json.dumps(movie, indent=4, sort_keys=True))"
   ]
  },
  {
   "cell_type": "code",
   "execution_count": 13,
   "metadata": {},
   "outputs": [
    {
     "name": "stdout",
     "output_type": "stream",
     "text": [
      "The movie 50 First Dates was released in the year 2004.\n"
     ]
    }
   ],
   "source": [
    "release = movie[\"Year\"]\n",
    "print(f'The movie 50 First Dates was released in the year {release}.')"
   ]
  },
  {
   "cell_type": "code",
   "execution_count": 14,
   "metadata": {
    "scrolled": true
   },
   "outputs": [
    {
     "name": "stdout",
     "output_type": "stream",
     "text": [
      "{\n",
      "    \"Actors\": \"Auli'i Cravalho, Dwayne Johnson, Rachel House\",\n",
      "    \"Awards\": \"Nominated for 2 Oscars. 22 wins & 90 nominations total\",\n",
      "    \"BoxOffice\": \"$248,757,044\",\n",
      "    \"Country\": \"United States\",\n",
      "    \"DVD\": \"07 Mar 2017\",\n",
      "    \"Director\": \"Ron Clements, John Musker, Don Hall\",\n",
      "    \"Genre\": \"Animation, Adventure, Comedy\",\n",
      "    \"Language\": \"English, French\",\n",
      "    \"Metascore\": \"81\",\n",
      "    \"Plot\": \"In Ancient Polynesia, when a terrible curse incurred by the Demigod Maui reaches Moana's island, she answers the Ocean's call to seek out the Demigod to set things right.\",\n",
      "    \"Poster\": \"https://m.media-amazon.com/images/M/MV5BMjI4MzU5NTExNF5BMl5BanBnXkFtZTgwNzY1MTEwMDI@._V1_SX300.jpg\",\n",
      "    \"Production\": \"N/A\",\n",
      "    \"Rated\": \"PG\",\n",
      "    \"Ratings\": [\n",
      "        {\n",
      "            \"Source\": \"Internet Movie Database\",\n",
      "            \"Value\": \"7.6/10\"\n",
      "        },\n",
      "        {\n",
      "            \"Source\": \"Rotten Tomatoes\",\n",
      "            \"Value\": \"95%\"\n",
      "        },\n",
      "        {\n",
      "            \"Source\": \"Metacritic\",\n",
      "            \"Value\": \"81/100\"\n",
      "        }\n",
      "    ],\n",
      "    \"Released\": \"23 Nov 2016\",\n",
      "    \"Response\": \"True\",\n",
      "    \"Runtime\": \"107 min\",\n",
      "    \"Title\": \"Moana\",\n",
      "    \"Type\": \"movie\",\n",
      "    \"Website\": \"N/A\",\n",
      "    \"Writer\": \"Jared Bush, Ron Clements, John Musker\",\n",
      "    \"Year\": \"2016\",\n",
      "    \"imdbID\": \"tt3521164\",\n",
      "    \"imdbRating\": \"7.6\",\n",
      "    \"imdbVotes\": \"346,018\"\n",
      "}\n"
     ]
    }
   ],
   "source": [
    "# Who wrote Moana?\n",
    "movie = requests.get(url + \"Moana\").json()\n",
    "# print(json.dumps(movie, indent=4, sort_keys=True))"
   ]
  },
  {
   "cell_type": "code",
   "execution_count": 21,
   "metadata": {},
   "outputs": [
    {
     "name": "stdout",
     "output_type": "stream",
     "text": [
      "Moana was written by Jared Bush, Ron Clements, John Musker.\n"
     ]
    }
   ],
   "source": [
    "writers = movie[\"Writer\"]\n",
    "\n",
    "print(f'Moana was written by {writers}.')"
   ]
  },
  {
   "cell_type": "code",
   "execution_count": 22,
   "metadata": {
    "scrolled": true
   },
   "outputs": [
    {
     "name": "stdout",
     "output_type": "stream",
     "text": [
      "The movie Sing has the following plot line: In a city of humanoid animals, a hustling theater impresario's attempt to save his theater with a singing competition becomes grander than he anticipates even as its finalists find that their lives will never be the same.\n"
     ]
    }
   ],
   "source": [
    "# What was the plot of the movie Sing?\n",
    "movie = requests.get(url + \"Sing\").json()\n",
    "plot = movie[\"Plot\"]\n",
    "print(f'The movie Sing has the following plot line: {plot}')\n"
   ]
  }
 ],
 "metadata": {
  "kernelspec": {
   "display_name": "Python 3",
   "language": "python",
   "name": "python3"
  },
  "language_info": {
   "codemirror_mode": {
    "name": "ipython",
    "version": 3
   },
   "file_extension": ".py",
   "mimetype": "text/x-python",
   "name": "python",
   "nbconvert_exporter": "python",
   "pygments_lexer": "ipython3",
   "version": "3.9.13"
  },
  "varInspector": {
   "cols": {
    "lenName": 16,
    "lenType": 16,
    "lenVar": 40
   },
   "kernels_config": {
    "python": {
     "delete_cmd_postfix": "",
     "delete_cmd_prefix": "del ",
     "library": "var_list.py",
     "varRefreshCmd": "print(var_dic_list())"
    },
    "r": {
     "delete_cmd_postfix": ") ",
     "delete_cmd_prefix": "rm(",
     "library": "var_list.r",
     "varRefreshCmd": "cat(var_dic_list()) "
    }
   },
   "types_to_exclude": [
    "module",
    "function",
    "builtin_function_or_method",
    "instance",
    "_Feature"
   ],
   "window_display": false
  }
 },
 "nbformat": 4,
 "nbformat_minor": 2
}
