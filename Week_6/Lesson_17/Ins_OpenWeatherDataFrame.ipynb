{
 "cells": [
  {
   "cell_type": "code",
   "execution_count": 1,
   "metadata": {
    "collapsed": true
   },
   "outputs": [],
   "source": [
    "# Dependencies\n",
    "import matplotlib.pyplot as plt\n",
    "import requests\n",
    "import pandas as pd\n",
    "import json"
   ]
  },
  {
   "cell_type": "code",
   "execution_count": 2,
   "metadata": {},
   "outputs": [
    {
     "name": "stdout",
     "output_type": "stream",
     "text": [
      "http://api.openweathermap.org/data/2.5/weather?appid=e588ec51b891d2b887520da376e73f48&units=metric&q=\n"
     ]
    }
   ],
   "source": [
    "#Create the query URL\n",
    "url = \"http://api.openweathermap.org/data/2.5/weather?\"\n",
    "api_key = \"e588ec51b891d2b887520da376e73f48\"\n",
    "units = \"metric\"\n",
    "\n",
    "query_url = url + \"appid=\" + api_key + \"&units=\" + units + \"&q=\"\n",
    "print(query_url)"
   ]
  },
  {
   "cell_type": "code",
   "execution_count": 3,
   "metadata": {},
   "outputs": [],
   "source": [
    "#Set up the lists for the cities and parameters of interest.\n",
    "cities = [\"Paris\", \"London\", \"Oslo\", \"Beijing\"]\n",
    "latitude = []\n",
    "temp_c = []"
   ]
  },
  {
   "cell_type": "code",
   "execution_count": 5,
   "metadata": {},
   "outputs": [
    {
     "name": "stdout",
     "output_type": "stream",
     "text": [
      "{\n",
      "    \"base\": \"stations\",\n",
      "    \"clouds\": {\n",
      "        \"all\": 100\n",
      "    },\n",
      "    \"cod\": 200,\n",
      "    \"coord\": {\n",
      "        \"lat\": -35.2835,\n",
      "        \"lon\": 149.1281\n",
      "    },\n",
      "    \"dt\": 1679993000,\n",
      "    \"id\": 2172517,\n",
      "    \"main\": {\n",
      "        \"feels_like\": 16.34,\n",
      "        \"humidity\": 94,\n",
      "        \"pressure\": 1013,\n",
      "        \"temp\": 16.21,\n",
      "        \"temp_max\": 18.16,\n",
      "        \"temp_min\": 15.05\n",
      "    },\n",
      "    \"name\": \"Canberra\",\n",
      "    \"rain\": {\n",
      "        \"1h\": 0.35\n",
      "    },\n",
      "    \"sys\": {\n",
      "        \"country\": \"AU\",\n",
      "        \"id\": 2004200,\n",
      "        \"sunrise\": 1679947937,\n",
      "        \"sunset\": 1679990706,\n",
      "        \"type\": 2\n",
      "    },\n",
      "    \"timezone\": 39600,\n",
      "    \"visibility\": 10000,\n",
      "    \"weather\": [\n",
      "        {\n",
      "            \"description\": \"light intensity shower rain\",\n",
      "            \"icon\": \"09n\",\n",
      "            \"id\": 520,\n",
      "            \"main\": \"Rain\"\n",
      "        }\n",
      "    ],\n",
      "    \"wind\": {\n",
      "        \"deg\": 20,\n",
      "        \"speed\": 3.6\n",
      "    }\n",
      "}\n"
     ]
    }
   ],
   "source": [
    "#Example city to look at the data structure\n",
    "# response = requests.get(query_url + \"Canberra\").json()\n",
    "# print(json.dumps(response, indent=4, sort_keys=True))"
   ]
  },
  {
   "cell_type": "code",
   "execution_count": 7,
   "metadata": {},
   "outputs": [],
   "source": [
    "#Loop through the cities and request data for each\n",
    "for i in cities:\n",
    "    response = requests.get(query_url + i).json()\n",
    "    latitude.append(response[\"coord\"][\"lat\"])\n",
    "    temp_c.append(response[\"main\"][\"temp\"])"
   ]
  },
  {
   "cell_type": "code",
   "execution_count": 8,
   "metadata": {},
   "outputs": [
    {
     "name": "stdout",
     "output_type": "stream",
     "text": [
      "Latitude information: [48.8534, 51.5085, 59.9127, 39.9075]\n",
      "Temperature information: [6.41, 7.68, -1.44, 18.94]\n"
     ]
    }
   ],
   "source": [
    "#Print the resulting lists\n",
    "print(f'Latitude information: {latitude}')\n",
    "print(f'Temperature information: {temp_c}')"
   ]
  },
  {
   "cell_type": "code",
   "execution_count": 9,
   "metadata": {},
   "outputs": [],
   "source": [
    "#Store the data in a dictionary\n",
    "weather_data = {\n",
    "    \"City\": cities,\n",
    "    \"Latitude\": latitude,\n",
    "    \"Temperature_Celsius\": temp_c\n",
    "}"
   ]
  },
  {
   "cell_type": "code",
   "execution_count": 10,
   "metadata": {},
   "outputs": [
    {
     "data": {
      "text/html": [
       "<div>\n",
       "<style scoped>\n",
       "    .dataframe tbody tr th:only-of-type {\n",
       "        vertical-align: middle;\n",
       "    }\n",
       "\n",
       "    .dataframe tbody tr th {\n",
       "        vertical-align: top;\n",
       "    }\n",
       "\n",
       "    .dataframe thead th {\n",
       "        text-align: right;\n",
       "    }\n",
       "</style>\n",
       "<table border=\"1\" class=\"dataframe\">\n",
       "  <thead>\n",
       "    <tr style=\"text-align: right;\">\n",
       "      <th></th>\n",
       "      <th>City</th>\n",
       "      <th>Latitude</th>\n",
       "      <th>Temperature_Celsius</th>\n",
       "    </tr>\n",
       "  </thead>\n",
       "  <tbody>\n",
       "    <tr>\n",
       "      <th>0</th>\n",
       "      <td>Paris</td>\n",
       "      <td>48.8534</td>\n",
       "      <td>6.41</td>\n",
       "    </tr>\n",
       "    <tr>\n",
       "      <th>1</th>\n",
       "      <td>London</td>\n",
       "      <td>51.5085</td>\n",
       "      <td>7.68</td>\n",
       "    </tr>\n",
       "    <tr>\n",
       "      <th>2</th>\n",
       "      <td>Oslo</td>\n",
       "      <td>59.9127</td>\n",
       "      <td>-1.44</td>\n",
       "    </tr>\n",
       "    <tr>\n",
       "      <th>3</th>\n",
       "      <td>Beijing</td>\n",
       "      <td>39.9075</td>\n",
       "      <td>18.94</td>\n",
       "    </tr>\n",
       "  </tbody>\n",
       "</table>\n",
       "</div>"
      ],
      "text/plain": [
       "      City  Latitude  Temperature_Celsius\n",
       "0    Paris   48.8534                 6.41\n",
       "1   London   51.5085                 7.68\n",
       "2     Oslo   59.9127                -1.44\n",
       "3  Beijing   39.9075                18.94"
      ]
     },
     "execution_count": 10,
     "metadata": {},
     "output_type": "execute_result"
    }
   ],
   "source": [
    "#Convert the dictionary into a dataframe\n",
    "weather_df = pd.DataFrame(weather_data)\n",
    "weather_df"
   ]
  },
  {
   "cell_type": "code",
   "execution_count": 16,
   "metadata": {},
   "outputs": [
    {
     "data": {
      "image/png": "[encoded data removed]",
      "text/plain": [
       "<Figure size 640x480 with 1 Axes>"
      ]
     },
     "metadata": {},
     "output_type": "display_data"
    }
   ],
   "source": [
    "#Build a scatterplot for temperature vs. latitude\n",
    "plt.scatter(weather_df[\"Latitude\"], weather_df[\"Temperature_Celsius\"])\n",
    "plt.title(\"Temperature in Cities Around the World\")\n",
    "plt.xlabel(\"Latitude (Degrees)\")\n",
    "plt.ylabel(\"Temperature (Celcius)\")\n",
    "plt.grid(True)\n",
    "\n",
    "#Save the figure & display\n",
    "plt.savefig(\"TemperatureinCitiesAroundtheWorld.png\")\n",
    "plt.show()"
   ]
  }
 ],
 "metadata": {
  "kernelspec": {
   "display_name": "Python 3",
   "language": "python",
   "name": "python3"
  },
  "language_info": {
   "codemirror_mode": {
    "name": "ipython",
    "version": 3
   },
   "file_extension": ".py",
   "mimetype": "text/x-python",
   "name": "python",
   "nbconvert_exporter": "python",
   "pygments_lexer": "ipython3",
   "version": "3.9.13"
  },
  "varInspector": {
   "cols": {
    "lenName": 16,
    "lenType": 16,
    "lenVar": 40
   },
   "kernels_config": {
    "python": {
     "delete_cmd_postfix": "",
     "delete_cmd_prefix": "del ",
     "library": "var_list.py",
     "varRefreshCmd": "print(var_dic_list())"
    },
    "r": {
     "delete_cmd_postfix": ") ",
     "delete_cmd_prefix": "rm(",
     "library": "var_list.r",
     "varRefreshCmd": "cat(var_dic_list()) "
    }
   },
   "types_to_exclude": [
    "module",
    "function",
    "builtin_function_or_method",
    "instance",
    "_Feature"
   ],
   "window_display": false
  }
 },
 "nbformat": 4,
 "nbformat_minor": 2
}
