{
 "cells": [
  {
   "cell_type": "code",
   "execution_count": 1,
   "metadata": {
    "collapsed": true
   },
   "outputs": [],
   "source": [
    "# Dependencies\n",
    "import requests\n",
    "import json"
   ]
  },
  {
   "cell_type": "code",
   "execution_count": 2,
   "metadata": {
    "collapsed": true
   },
   "outputs": [
    {
     "name": "stdout",
     "output_type": "stream",
     "text": [
      "http://api.openweathermap.org/data/2.5/weather?appid=e588ec51b891d2b887520da376e73f48&q=Bujumbura\n"
     ]
    }
   ],
   "source": [
    "# Build query URL and request your results in Celsius\n",
    "url = \"http://api.openweathermap.org/data/2.5/weather?\"\n",
    "api_key = \"e588ec51b891d2b887520da376e73f48\"\n",
    "city = \"Bujumbura\"\n",
    "\n",
    "query_url = url + \"appid=\" + api_key + \"&q=\" + city\n",
    "print(query_url)"
   ]
  },
  {
   "cell_type": "code",
   "execution_count": 3,
   "metadata": {},
   "outputs": [],
   "source": [
    "#JSONinfy the data\n",
    "response = requests.get(query_url)\n",
    "weather = response.json()"
   ]
  },
  {
   "cell_type": "code",
   "execution_count": 4,
   "metadata": {},
   "outputs": [
    {
     "name": "stdout",
     "output_type": "stream",
     "text": [
      "{\n",
      "    \"base\": \"stations\",\n",
      "    \"clouds\": {\n",
      "        \"all\": 39\n",
      "    },\n",
      "    \"cod\": 200,\n",
      "    \"coord\": {\n",
      "        \"lat\": -3.3822,\n",
      "        \"lon\": 29.3644\n",
      "    },\n",
      "    \"dt\": 1680418438,\n",
      "    \"id\": 425378,\n",
      "    \"main\": {\n",
      "        \"feels_like\": 297.88,\n",
      "        \"grnd_level\": 927,\n",
      "        \"humidity\": 79,\n",
      "        \"pressure\": 1015,\n",
      "        \"sea_level\": 1015,\n",
      "        \"temp\": 297.34,\n",
      "        \"temp_max\": 297.34,\n",
      "        \"temp_min\": 297.34\n",
      "    },\n",
      "    \"name\": \"Bujumbura\",\n",
      "    \"rain\": {\n",
      "        \"1h\": 0.43\n",
      "    },\n",
      "    \"sys\": {\n",
      "        \"country\": \"BI\",\n",
      "        \"sunrise\": 1680408233,\n",
      "        \"sunset\": 1680451698\n",
      "    },\n",
      "    \"timezone\": 7200,\n",
      "    \"visibility\": 10000,\n",
      "    \"weather\": [\n",
      "        {\n",
      "            \"description\": \"light rain\",\n",
      "            \"icon\": \"10d\",\n",
      "            \"id\": 500,\n",
      "            \"main\": \"Rain\"\n",
      "        }\n",
      "    ],\n",
      "    \"wind\": {\n",
      "        \"deg\": 4,\n",
      "        \"gust\": 1.96,\n",
      "        \"speed\": 1.34\n",
      "    }\n",
      "}\n"
     ]
    }
   ],
   "source": [
    "# Get weather data\n",
    "print(json.dumps(weather, indent=4, sort_keys=True))"
   ]
  },
  {
   "cell_type": "code",
   "execution_count": 5,
   "metadata": {
    "collapsed": true
   },
   "outputs": [],
   "source": [
    "# Get temperature from JSON response\n",
    "temp = weather[\"main\"][\"temp\"]\n",
    "temp_c = round((temp - 273.15), 2)\n",
    "temp_f = round((temp_c * 9/5 + 32), 2)"
   ]
  },
  {
   "cell_type": "code",
   "execution_count": 6,
   "metadata": {},
   "outputs": [
    {
     "name": "stdout",
     "output_type": "stream",
     "text": [
      "The temperature in Bujumbura is currently 24.19 Celsius, or 75.54 Fahrenheit.\n"
     ]
    }
   ],
   "source": [
    "# Report temperature\n",
    "print(f'The temperature in Bujumbura is currently {temp_c} Celsius, or {temp_f} Fahrenheit.') "
   ]
  }
 ],
 "metadata": {
  "kernelspec": {
   "display_name": "Python [default]",
   "language": "python",
   "name": "python3"
  },
  "language_info": {
   "codemirror_mode": {
    "name": "ipython",
    "version": 3
   },
   "file_extension": ".py",
   "mimetype": "text/x-python",
   "name": "python",
   "nbconvert_exporter": "python",
   "pygments_lexer": "ipython3",
   "version": "3.9.13"
  },
  "varInspector": {
   "cols": {
    "lenName": 16,
    "lenType": 16,
    "lenVar": 40
   },
   "kernels_config": {
    "python": {
     "delete_cmd_postfix": "",
     "delete_cmd_prefix": "del ",
     "library": "var_list.py",
     "varRefreshCmd": "print(var_dic_list())"
    },
    "r": {
     "delete_cmd_postfix": ") ",
     "delete_cmd_prefix": "rm(",
     "library": "var_list.r",
     "varRefreshCmd": "cat(var_dic_list()) "
    }
   },
   "types_to_exclude": [
    "module",
    "function",
    "builtin_function_or_method",
    "instance",
    "_Feature"
   ],
   "window_display": false
  }
 },
 "nbformat": 4,
 "nbformat_minor": 2
}
