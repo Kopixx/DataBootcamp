{
 "cells": [
  {
   "cell_type": "code",
   "execution_count": 6,
   "metadata": {
    "collapsed": true
   },
   "outputs": [
    {
     "name": "stdout",
     "output_type": "stream",
     "text": [
      "{\n",
      "    \"data\": {\n",
      "        \"items\": [\n",
      "            {\n",
      "                \"aspectRatio\": \"widescreen\",\n",
      "                \"category\": \"Educational\",\n",
      "                \"commentCount\": 3,\n",
      "                \"description\": \"This is the an introduction course to Python programming.\",\n",
      "                \"duration\": 45,\n",
      "                \"favoriteCount\": 21,\n",
      "                \"id\": \"1234567890\",\n",
      "                \"rating\": 2.35,\n",
      "                \"ratingCount\": 453,\n",
      "                \"tags\": [\n",
      "                    \"Python\",\n",
      "                    \"Data\",\n",
      "                    \"Coding\"\n",
      "                ],\n",
      "                \"title\": \"Introduction to Python Programming\",\n",
      "                \"updated\": \"2021-06-07T12:00:00.000Z\",\n",
      "                \"uploaded\": \"2021-06-05T12:00:00.000Z\",\n",
      "                \"viewCount\": 1350\n",
      "            }\n",
      "        ],\n",
      "        \"itemsPerPage\": 1,\n",
      "        \"startIndex\": 1,\n",
      "        \"totalItems\": 10,\n",
      "        \"updated\": \"2021-06-07T12:00:00.000Z\"\n",
      "    }\n",
      "}\n"
     ]
    }
   ],
   "source": [
    "# Dependencies\n",
    "import json\n",
    "import os\n",
    "import requests\n",
    "\n",
    "# Load JSON\n",
    "filepath = os.path.join(\"video_api_response.json\")\n",
    "with open(filepath) as jsonfile:\n",
    "    json_data = json.load(jsonfile)\n",
    "    print(json.dumps(json_data, indent=4, sort_keys=True))"
   ]
  },
  {
   "cell_type": "code",
   "execution_count": 10,
   "metadata": {},
   "outputs": [
    {
     "name": "stdout",
     "output_type": "stream",
     "text": [
      "Introduction to Python Programming\n"
     ]
    }
   ],
   "source": [
    "#Retrieve the video's title\n",
    "video_title = json_data[\"data\"][\"items\"][0][\"title\"]"
   ]
  },
  {
   "cell_type": "code",
   "execution_count": 11,
   "metadata": {},
   "outputs": [],
   "source": [
    "#Retrieve the video's rating\n",
    "video_rating = json_data[\"data\"][\"items\"][0][\"rating\"]"
   ]
  },
  {
   "cell_type": "code",
   "execution_count": 12,
   "metadata": {},
   "outputs": [],
   "source": [
    "#Retrieve the number of views for the video\n",
    "video_views = json_data[\"data\"][\"items\"][0][\"viewCount\"]"
   ]
  },
  {
   "cell_type": "code",
   "execution_count": 13,
   "metadata": {},
   "outputs": [
    {
     "name": "stdout",
     "output_type": "stream",
     "text": [
      "Video details\n",
      "Title: Introduction to Python Programming\n",
      "Rating (out of 5): 2.35\n",
      "Total Views: 1350\n"
     ]
    }
   ],
   "source": [
    "#Print the results\n",
    "print(\"Video details\")\n",
    "print(f'Title: {video_title}')\n",
    "print(f'Rating (out of 5): {video_rating}')\n",
    "print(f'Total Views: {video_views}')"
   ]
  }
 ],
 "metadata": {
  "kernelspec": {
   "display_name": "Python 3",
   "language": "python",
   "name": "python3"
  },
  "language_info": {
   "codemirror_mode": {
    "name": "ipython",
    "version": 3
   },
   "file_extension": ".py",
   "mimetype": "text/x-python",
   "name": "python",
   "nbconvert_exporter": "python",
   "pygments_lexer": "ipython3",
   "version": "3.9.13"
  }
 },
 "nbformat": 4,
 "nbformat_minor": 2
}
